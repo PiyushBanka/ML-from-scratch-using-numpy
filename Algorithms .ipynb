{
 "cells": [
  {
   "cell_type": "code",
   "execution_count": null,
   "id": "a028c6b6",
   "metadata": {},
   "outputs": [],
   "source": [
    "# https://www.kaggle.com/code/milan400/machine-learning-algorithms-from-scratch"
   ]
  },
  {
   "cell_type": "markdown",
   "id": "a9bef49b",
   "metadata": {},
   "source": [
    "## Linear Regression"
   ]
  },
  {
   "cell_type": "code",
   "execution_count": 4,
   "id": "6a3a8542",
   "metadata": {},
   "outputs": [
    {
     "name": "stdout",
     "output_type": "stream",
     "text": [
      "MSE: 305.7719958301902\n"
     ]
    },
    {
     "data": {
      "image/png": "[encoded data removed]",
      "text/plain": [
       "<Figure size 576x432 with 1 Axes>"
      ]
     },
     "metadata": {
      "needs_background": "light"
     },
     "output_type": "display_data"
    }
   ],
   "source": [
    "import numpy as np\n",
    "from sklearn.model_selection import train_test_split\n",
    "from sklearn import datasets\n",
    "import matplotlib.pyplot as plt\n",
    "from sklearn.metrics import confusion_matrix\n",
    "from numpy.random import randn\n",
    "import random\n",
    "from IPython.core.display import display,Image\n",
    "from string import Template\n",
    "import IPython.display\n",
    "import warnings\n",
    "\n",
    "class LinearRegression:\n",
    "\n",
    "    def __init__(self, learning_rate=0.001, n_iters=1000):\n",
    "        self.lr = learning_rate\n",
    "        self.n_iters = n_iters\n",
    "        self.weights = None\n",
    "        self.bias = None\n",
    "\n",
    "    def fit(self, X, y):\n",
    "        n_samples, n_features = X.shape\n",
    "\n",
    "        # init parameters\n",
    "        self.weights = np.zeros(n_features)\n",
    "        self.bias = 0\n",
    "\n",
    "        # gradient descent\n",
    "        for _ in range(self.n_iters):\n",
    "            y_predicted = np.dot(X, self.weights) + self.bias\n",
    "            # compute gradients\n",
    "            dw = (1 / n_samples) * np.dot(X.T, (y_predicted - y))\n",
    "            db = (1 / n_samples) * np.sum(y_predicted - y)\n",
    "\n",
    "            # update parameters\n",
    "            self.weights -= self.lr * dw\n",
    "            self.bias -= self.lr * db\n",
    " \n",
    "\n",
    "    def predict(self, X):\n",
    "        y_approximated = np.dot(X, self.weights) + self.bias\n",
    "        return y_approximated\n",
    "\n",
    "def mean_squared_error(y_true, y_pred):\n",
    "    return np.mean((y_true - y_pred)**2)\n",
    "\n",
    "\n",
    "\n",
    "X, y = datasets.make_regression(n_samples=100, n_features=1, noise=20, random_state=4)\n",
    "X_train, X_test, y_train, y_test = train_test_split(X, y, test_size=0.2, random_state=1234)\n",
    "\n",
    "\n",
    "regressor = LinearRegression(learning_rate=0.01, n_iters=1000)\n",
    "regressor.fit(X_train, y_train)\n",
    "predictions = regressor.predict(X_test)\n",
    "    \n",
    "mse = mean_squared_error(y_test, predictions)\n",
    "print(\"MSE:\", mse)\n",
    "\n",
    "y_pred_line = regressor.predict(X)\n",
    "\n",
    "\n",
    "\n",
    "\n",
    "cmap = plt.get_cmap('viridis')\n",
    "fig = plt.figure(figsize=(8,6))\n",
    "m1 = plt.scatter(X_train, y_train, color=cmap(0.9), s=10)\n",
    "m2 = plt.scatter(X_test, y_test, color=cmap(0.5), s=10)\n",
    "plt.plot(X, y_pred_line, color='black', linewidth=2, label=\"Prediction\")\n",
    "plt.show()\n"
   ]
  },
  {
   "cell_type": "code",
   "execution_count": 3,
   "id": "41921208",
   "metadata": {},
   "outputs": [
    {
     "name": "stdout",
     "output_type": "stream",
     "text": [
      "MSE: 305.7741316228642\n"
     ]
    },
    {
     "data": {
      "image/png": "[encoded data removed]",
      "text/plain": [
       "<Figure size 576x432 with 1 Axes>"
      ]
     },
     "metadata": {
      "needs_background": "light"
     },
     "output_type": "display_data"
    }
   ],
   "source": [
    "from sklearn.linear_model import LinearRegression\n",
    "\n",
    "regr = LinearRegression()\n",
    "regr.fit(X_train, y_train)\n",
    "y_pred = regr.predict(X_test)\n",
    "mse = mean_squared_error(y_test, y_pred)\n",
    "print(\"MSE:\", mse)\n",
    "\n",
    "y_pred_line_sk = regressor.predict(X)\n",
    "\n",
    "cmap = plt.get_cmap('viridis')\n",
    "fig = plt.figure(figsize=(8,6))\n",
    "m1 = plt.scatter(X_train, y_train, color=cmap(0.9), s=10)\n",
    "m2 = plt.scatter(X_test, y_test, color=cmap(0.5), s=10)\n",
    "plt.plot(X, y_pred_line_sk, color='black', linewidth=2, label=\"Prediction\")\n",
    "plt.show()"
   ]
  },
  {
   "cell_type": "markdown",
   "id": "dc1b5f5f",
   "metadata": {},
   "source": [
    "## Logistic Regression"
   ]
  },
  {
   "cell_type": "code",
   "execution_count": 5,
   "id": "5eb83538",
   "metadata": {},
   "outputs": [
    {
     "name": "stdout",
     "output_type": "stream",
     "text": [
      "Accuracy:  0.9298245614035088\n"
     ]
    }
   ],
   "source": [
    "class logisticRegression:\n",
    "\n",
    "  def __init__(self,lr=0.001,n_iters=1000):\n",
    "    self.lr = lr\n",
    "    self.n_iters = n_iters\n",
    "    self.weights = None\n",
    "    self.bias = None\n",
    "\n",
    "  def fit(self,X,y):\n",
    "    #init parameters\n",
    "    n_samples, n_features = X.shape\n",
    "    self.weights = np.zeros(n_features)\n",
    "    self.bias = 0\n",
    "\n",
    "    #gradient descent\n",
    "    for _ in range(self.n_iters):\n",
    "      linear_model = np.dot(X,self.weights) + self.bias\n",
    "      y_predicted = self._sigmoid(linear_model)\n",
    "\n",
    "      dw = (1/n_samples) * np.dot(X.T,(y_predicted-y))\n",
    "      db = (1/n_samples) * np.sum(y_predicted-y)\n",
    "\n",
    "      self.weights -= self.lr *dw\n",
    "      self.bias -= self.lr * db \n",
    "\n",
    "  def predict(self,X):\n",
    "    linear_model = np.dot(X,self.weights) + self.bias\n",
    "    y_predicted = self._sigmoid(linear_model)\n",
    "    y_predicted_cls = [1 if i>0.5 else 0 for i in y_predicted]\n",
    "    return y_predicted_cls\n",
    "  \n",
    "  def _sigmoid(self,x):\n",
    "    return(1/(1+np.exp(-x)))\n",
    "\n",
    "#Test Logistic regression in breast_cancer\n",
    "bc = datasets.load_breast_cancer()\n",
    "X, y = bc.data, bc.target\n",
    "\n",
    "X_train, X_test, y_train, y_test = train_test_split(X, y, test_size=0.2, random_state=1234)\n",
    "\n",
    "\n",
    "\n",
    "def accuracy(y_true,y_pred):\n",
    "  accuracy = np.sum(y_true == y_pred)/len(y_true)\n",
    "  return accuracy\n",
    "\n",
    "regressor = logisticRegression(lr=0.0001,n_iters=1000)\n",
    "regressor.fit(X_train, y_train)\n",
    "\n",
    "predictions = regressor.predict(X_test)\n",
    "\n",
    "print(\"Accuracy: \",accuracy(y_test, predictions))"
   ]
  },
  {
   "cell_type": "markdown",
   "id": "cc856f02",
   "metadata": {},
   "source": [
    "## Decision Tree"
   ]
  },
  {
   "cell_type": "code",
   "execution_count": 6,
   "id": "3cf5f440",
   "metadata": {},
   "outputs": [
    {
     "name": "stdout",
     "output_type": "stream",
     "text": [
      "Accuracy:  0.6228070175438597\n"
     ]
    }
   ],
   "source": [
    "from collections import Counter\n",
    "\n",
    "def entropy(y):\n",
    "  hist = np.bincount(y)\n",
    "  ps = hist/len(y)\n",
    "  return(-np.sum([p * np.log2(p) for p in ps if p>0]))\n",
    "\n",
    "\n",
    "\n",
    "class Node:\n",
    "  def __init__(self, feature=None, threshold=None, left=None, right=None,*,value=None):\n",
    "    self.feature = feature\n",
    "    self.threshold = threshold\n",
    "    self.left = left\n",
    "    self.right = right\n",
    "    self.value = value\n",
    "  \n",
    "  def is_leaf_node(self):\n",
    "    return(self.value is not None)\n",
    "\n",
    "\n",
    "class DecisionTree:\n",
    "  def __init__(self, min_samples_split=2, max_depth=100, n_feats=None):\n",
    "    self.min_samples_split = min_samples_split\n",
    "    self.max_depth = max_depth\n",
    "    self.n_feats = n_feats\n",
    "    self.root = None\n",
    "\n",
    "  def fit(self, X, y):\n",
    "    self.n_feats = X.shape[1] if not self.n_feats else min(self.n_feats, X.shape[1])\n",
    "    self.root = self._grow_tree(X, y)\n",
    "\n",
    "  def _grow_tree(self, X, y, depth=0):\n",
    "    n_samples, n_features = X.shape\n",
    "    n_labels = len(np.unique(y))\n",
    "\n",
    "    #stopping criteria\n",
    "    if(depth >= self.max_depth or n_labels == 1 or n_samples < self.min_samples_split):\n",
    "      leaf_value = self._most_common_label(y)\n",
    "      return(Node(value=leaf_value))\n",
    "    \n",
    "    feat_idxs = np.random.choice(n_features, self.n_feats, replace=False)\n",
    "\n",
    "    #greedy search\n",
    "    best_feat, best_thresh = self._best_criteria(X, y, feat_idxs)\n",
    "\n",
    "    left_idxs, right_idxs = self._split(X[:,best_feat],best_thresh)\n",
    "\n",
    "    left = self._grow_tree(X[left_idxs,:], y[left_idxs], depth+1)\n",
    "    right = self._grow_tree(X[right_idxs,:], y[right_idxs], depth+1)\n",
    "    return(Node(best_feat, best_thresh, left, right))\n",
    "  \n",
    "\n",
    "  def _best_criteria(self, X, y, feat_idxs):\n",
    "    best_gain = -1\n",
    "    split_idx, split_thresh = None, None\n",
    "    for feat_idx in feat_idxs:\n",
    "      X_column = X[:, feat_idx]\n",
    "      thresholds = np.unique(X_column)\n",
    "      for threshold in thresholds:\n",
    "        gain = self._information_gain(y, X_column, threshold)\n",
    "        if(gain>best_gain):\n",
    "          best_gain = gain\n",
    "          split_idx = feat_idx\n",
    "          split_thresh = threshold\n",
    "    return(split_idx, split_thresh)\n",
    "\n",
    "  def _information_gain(self, y, X_column, split_threh):\n",
    "    #parent entropy\n",
    "    parent_entropy = entropy(y)\n",
    "\n",
    "    #generate split\n",
    "    left_idxs, right_idxs = self._split(X_column, split_threh)\n",
    "    if(len(left_idxs == 0) or len(right_idxs)==0):\n",
    "      return 0\n",
    "\n",
    "    #weighted avg vhild entropy\n",
    "    n = len(y)\n",
    "    n_l, n_r = len(left_idxs), len(right_idxs)\n",
    "    e_l, e_r = entropy(y[left_idxs]), entropy(y[right_idxs])\n",
    "    child_entropy = (n_l/n)*e_l + (n_r/n)*e_r\n",
    "\n",
    "    #return ig\n",
    "    ig = parent_entropy - child_entropy\n",
    "\n",
    "    return ig\n",
    "  \n",
    "  def _split(self, X_column, split_threh):\n",
    "    left_idxs = np.argwhere(X_column <= split_threh).flatten()\n",
    "    right_idxs = np.argwhere(X_column > split_threh).flatten()\n",
    "    return(left_idxs, right_idxs)\n",
    "  \n",
    "  def predict(self, X):\n",
    "    #traverse tree\n",
    "    return(np.array([self._traverse_tree(x, self.root) for x in X]))\n",
    "\n",
    "  def _traverse_tree(self, x, node):\n",
    "    if(node.is_leaf_node()):\n",
    "      return(node.value)\n",
    "\n",
    "    if(x[node.feature] <= node.threshold):\n",
    "      return(self._traverse_tree(x, node.left))\n",
    "    return(self._traverse_tree(x, node.right))\n",
    "\n",
    "  def _most_common_label(self, y):\n",
    "    counter = Counter(y)\n",
    "    most_common = counter.most_common(1)[0][0]\n",
    "    return(most_common)\n",
    "\n",
    "#decision tree test\n",
    "\n",
    "\n",
    "def accuracy(y_true, y_pred):\n",
    "  accuracy = np.sum(y_true == y_pred) / len(y_true)\n",
    "  return(accuracy)\n",
    "\n",
    "\n",
    "\n",
    "data = datasets.load_breast_cancer()\n",
    "X = data.data\n",
    "y = data.target\n",
    "\n",
    "X_train, X_test, y_train, y_test = train_test_split(X, y, test_size=0.2, random_state = 42)\n",
    "\n",
    "\n",
    "\n",
    "clf = DecisionTree(max_depth=20)\n",
    "clf.fit(X_train, y_train)\n",
    "\n",
    "\n",
    "\n",
    "y_pred = clf.predict(X_test)\n",
    "acc = accuracy(y_test, y_pred)\n",
    "\n",
    "print(\"Accuracy: \",acc)"
   ]
  },
  {
   "cell_type": "code",
   "execution_count": 7,
   "id": "d33eb227",
   "metadata": {},
   "outputs": [
    {
     "data": {
      "text/plain": [
       "<AxesSubplot:>"
      ]
     },
     "execution_count": 7,
     "metadata": {},
     "output_type": "execute_result"
    },
    {
     "data": {
      "image/png": "[encoded data removed]",
      "text/plain": [
       "<Figure size 432x288 with 2 Axes>"
      ]
     },
     "metadata": {
      "needs_background": "light"
     },
     "output_type": "display_data"
    }
   ],
   "source": [
    "cnf_matrix = confusion_matrix(y_test, y_pred)\n",
    "import seaborn as sns\n",
    "sns.heatmap(cnf_matrix, annot=True)"
   ]
  },
  {
   "cell_type": "markdown",
   "id": "41cb30af",
   "metadata": {},
   "source": [
    "## Random Forest"
   ]
  },
  {
   "cell_type": "code",
   "execution_count": 8,
   "id": "3202e322",
   "metadata": {},
   "outputs": [
    {
     "name": "stdout",
     "output_type": "stream",
     "text": [
      "Accuracy:  0.6578947368421053\n"
     ]
    }
   ],
   "source": [
    "def bootstrap_sample(X, y):\n",
    "  n_samples = X.shape[0]\n",
    "  idxs = np.random.choice(n_samples, size = n_samples, replace=True)\n",
    "  return(X[idxs], y[idxs])\n",
    "\n",
    "def most_common_label(y):\n",
    "  counter = Counter(y)\n",
    "  most_common = counter.most_common(1)[0][0]\n",
    "  return(most_common)\n",
    "\n",
    "class RandomForest:\n",
    "  def __init__(self, n_trees = 100, min_samples_split=2, max_depth=100, n_feats=None):\n",
    "    self.n_trees = n_trees\n",
    "    self.min_samples_split = min_samples_split\n",
    "    self.max_depth = max_depth\n",
    "    self.n_feats = n_feats\n",
    "    self.trees = []\n",
    "\n",
    "  def fit(self, X, y):\n",
    "    self.trees = []\n",
    "    for _ in range(self.n_trees):\n",
    "      tree = DecisionTree(min_samples_split = self.min_samples_split, max_depth=self.max_depth, n_feats=self.n_feats)\n",
    "      X_sample, y_sample = bootstrap_sample(X, y)\n",
    "      tree.fit(X_sample, y_sample)\n",
    "      self.trees.append(tree)\n",
    "  def predict(self, X):\n",
    "    tree_preds = np.array([tree.predict(X) for tree in self.trees])\n",
    "    tree_preds = np.swapaxes(tree_preds, 0, 1)\n",
    "\n",
    "    y_pred = [most_common_label(tree_pred) for tree_pred in tree_preds]\n",
    "    return np.array(y_pred)\n",
    "\n",
    "\n",
    "clf_f = RandomForest(n_trees=3)\n",
    "clf_f.fit(X_train, y_train)\n",
    "\n",
    "y_pred = clf_f.predict(X_test)\n",
    "acc = accuracy(y_test, y_pred)\n",
    "\n",
    "print(\"Accuracy: \",acc)"
   ]
  },
  {
   "cell_type": "markdown",
   "id": "a046457c",
   "metadata": {},
   "source": [
    "## SVM"
   ]
  },
  {
   "cell_type": "code",
   "execution_count": 9,
   "id": "d620fe7c",
   "metadata": {},
   "outputs": [
    {
     "name": "stdout",
     "output_type": "stream",
     "text": [
      "[-0.20334488  0.34762713 -0.05190083] -1.0459999999999956\n"
     ]
    },
    {
     "data": {
      "image/png": "[encoded data removed]",
      "text/plain": [
       "<Figure size 432x288 with 1 Axes>"
      ]
     },
     "metadata": {
      "needs_background": "light"
     },
     "output_type": "display_data"
    }
   ],
   "source": [
    "class SVM:\n",
    "  def __init__(self, learning_rate = 0.001, lambda_param=0.01, n_iters=1000):\n",
    "    self.lr = learning_rate\n",
    "    self.lambda_param = lambda_param\n",
    "    self.n_iters = n_iters\n",
    "    self.w = None\n",
    "    self.b = None\n",
    "\n",
    "  def fit(self, X, y):\n",
    "    y_ = np.where(y<=0,-1,1)\n",
    "    n_samples, n_features = X.shape\n",
    "\n",
    "    self.w = np.zeros(n_features)\n",
    "    self.b = 0\n",
    "\n",
    "    for _ in range(self.n_iters):\n",
    "      for idx, x_i in enumerate(X):\n",
    "        condition = y_[idx] * (np.dot(x_i, self.w) - self.b) >=1\n",
    "        if condition:\n",
    "          self.w -= self.lr * (2*self.lambda_param * self.w)\n",
    "        else:\n",
    "          self.w -= self.lr * (2 * self.lambda_param * self.w - np.dot(x_i, y_[idx]))\n",
    "          self.b -= self.lr * y_[idx]\n",
    "  \n",
    "  def predict(self, X):\n",
    "    linear_output = np.dot(X, self.w) - self.b\n",
    "    return(np.sign(linear_output))\n",
    "\n",
    "X, y =  datasets.make_blobs(n_samples=50, n_features=3, centers=3, cluster_std=1.05, random_state=40)\n",
    "y = np.where(y == 0, -1, 1)\n",
    "\n",
    "clf = SVM()\n",
    "clf.fit(X, y)\n",
    "predictions = clf.predict(X)\n",
    " \n",
    "print(clf.w, clf.b)\n",
    "\n",
    "def visualize_svm():\n",
    "     def get_hyperplane_value(x, w, b, offset):\n",
    "          return (-w[0] * x + b + offset) / w[1]\n",
    "\n",
    "     fig = plt.figure()\n",
    "     ax = fig.add_subplot(1,1,1)\n",
    "     plt.scatter(X[:,0], X[:,1], marker='o',c=y)\n",
    "\n",
    "     x0_1 = np.amin(X[:,0])\n",
    "     x0_2 = np.amax(X[:,0])\n",
    "\n",
    "     x1_1 = get_hyperplane_value(x0_1, clf.w, clf.b, 0)\n",
    "     x1_2 = get_hyperplane_value(x0_2, clf.w, clf.b, 0)\n",
    "\n",
    "     x1_1_m = get_hyperplane_value(x0_1, clf.w, clf.b, -1)\n",
    "     x1_2_m = get_hyperplane_value(x0_2, clf.w, clf.b, -1)\n",
    "\n",
    "     x1_1_p = get_hyperplane_value(x0_1, clf.w, clf.b, 1)\n",
    "     x1_2_p = get_hyperplane_value(x0_2, clf.w, clf.b, 1)\n",
    "\n",
    "     ax.plot([x0_1, x0_2],[x1_1, x1_2], 'y--')\n",
    "     ax.plot([x0_1, x0_2],[x1_1_m, x1_2_m], 'k')\n",
    "     ax.plot([x0_1, x0_2],[x1_1_p, x1_2_p], 'k')\n",
    "\n",
    "     x1_min = np.amin(X[:,1])\n",
    "     x1_max = np.amax(X[:,1])\n",
    "     ax.set_ylim([x1_min-3,x1_max+3])\n",
    "\n",
    "     plt.show()\n",
    "\n",
    "visualize_svm()"
   ]
  },
  {
   "cell_type": "code",
   "execution_count": 10,
   "id": "3137542b",
   "metadata": {},
   "outputs": [
    {
     "data": {
      "text/plain": [
       "<AxesSubplot:>"
      ]
     },
     "execution_count": 10,
     "metadata": {},
     "output_type": "execute_result"
    },
    {
     "data": {
      "image/png": "[encoded data removed]",
      "text/plain": [
       "<Figure size 432x288 with 2 Axes>"
      ]
     },
     "metadata": {
      "needs_background": "light"
     },
     "output_type": "display_data"
    }
   ],
   "source": [
    "cnf_matrix = confusion_matrix(y, predictions)\n",
    "import seaborn as sns\n",
    "sns.heatmap(cnf_matrix, annot=True)"
   ]
  },
  {
   "cell_type": "markdown",
   "id": "9c8e86d3",
   "metadata": {},
   "source": [
    "## NN"
   ]
  },
  {
   "cell_type": "code",
   "execution_count": 11,
   "id": "6f6f10d6",
   "metadata": {},
   "outputs": [
    {
     "name": "stdout",
     "output_type": "stream",
     "text": [
      "Rnadom synaptic weights: \n",
      "[[-0.16595599]\n",
      " [ 0.44064899]\n",
      " [-0.99977125]]\n",
      "Synaptic weights after training: \n",
      "[[13.38883717]\n",
      " [-0.18998542]\n",
      " [-4.49621121]]\n",
      "New situation: input data =  0 1 1\n",
      "Output data: \n",
      "[0.00913743]\n"
     ]
    }
   ],
   "source": [
    "class NeuralNetwork():\n",
    "    \n",
    "    def __init__(self):\n",
    "        np.random.seed(1)\n",
    "        self.synaptic_weights = 2*np.random.random((3,1)) - 1\n",
    "    \n",
    "    def sigmoid(self,x):\n",
    "        return(1/(1+np.exp(-x)))\n",
    "    \n",
    "    def sigmoid_derivative(self,x):\n",
    "        return(x/(1+x))\n",
    "    \n",
    "    def train(self,training_inputs, training_outputs,training_iterations):\n",
    "        for itr in range(training_iterations):\n",
    "            \n",
    "            output = self.think(training_inputs)\n",
    "            error = training_outputs - output\n",
    "            adjustments = np.dot(training_inputs.T,error*self.sigmoid_derivative(output))\n",
    "            self.synaptic_weights += adjustments\n",
    "    \n",
    "    def think(self,inputs):\n",
    "        inputs = inputs.astype(float)\n",
    "        output = self.sigmoid(np.dot(inputs,self.synaptic_weights))\n",
    "        return output\n",
    "    \n",
    "    \n",
    "\n",
    "\n",
    "#In short, use this ' if name == \"main\" ' block to prevent (certain) code from being run when the module\n",
    "#is imported. Put simply, name is a variable defined for each script that defines whether the script is \n",
    "#being run as the main module or it is being run as an imported module.\n",
    "\n",
    "\n",
    "\n",
    "if(__name__ == \"__main__\"):\n",
    "    neural_network = NeuralNetwork()\n",
    "    \n",
    "    print(\"Rnadom synaptic weights: \")\n",
    "    print(neural_network.synaptic_weights)\n",
    "    \n",
    "    training_inputs = np.array([[0,0,1],\n",
    "                                [1,1,1],\n",
    "                                [1,0,1],\n",
    "                                [0,1,1]])\n",
    "    training_outputs = np.array([[0,1,1,0]]).T\n",
    "    \n",
    "    neural_network.train(training_inputs,training_outputs,10000)\n",
    "    \n",
    "    print(\"Synaptic weights after training: \")\n",
    "    print(neural_network.synaptic_weights)\n",
    "    \n",
    "    #A = str(input('Input 1: '))\n",
    "    #B = str(input('Input 2: '))\n",
    "    #C = str(input('Input 3: '))\n",
    "    A = 0\n",
    "    B = 1\n",
    "    C = 1\n",
    "    print(\"New situation: input data = \", A, B, C)\n",
    "    print(\"Output data: \")\n",
    "    print(neural_network.think(np.array([A,B,C])))\n"
   ]
  },
  {
   "cell_type": "code",
   "execution_count": null,
   "id": "49128858",
   "metadata": {},
   "outputs": [],
   "source": []
  }
 ],
 "metadata": {
  "kernelspec": {
   "display_name": "Python 3 (ipykernel)",
   "language": "python",
   "name": "python3"
  },
  "language_info": {
   "codemirror_mode": {
    "name": "ipython",
    "version": 3
   },
   "file_extension": ".py",
   "mimetype": "text/x-python",
   "name": "python",
   "nbconvert_exporter": "python",
   "pygments_lexer": "ipython3",
   "version": "3.9.7"
  }
 },
 "nbformat": 4,
 "nbformat_minor": 5
}
